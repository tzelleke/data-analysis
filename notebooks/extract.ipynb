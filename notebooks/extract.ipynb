{
 "cells": [
  {
   "cell_type": "code",
   "execution_count": 1,
   "metadata": {},
   "outputs": [],
   "source": [
    "import pandas as pd\n",
    "from playwright.async_api import async_playwright"
   ]
  },
  {
   "cell_type": "code",
   "execution_count": 2,
   "metadata": {},
   "outputs": [],
   "source": [
    "BASE_URL = \"https://www.hafen-hamburg.de/en/statistics\"\n",
    "\n",
    "PAGES = [\n",
    "    'breakbulk',\n",
    "    'bulk',\n",
    "    'containerhandling',\n",
    "    'seabornecargohandling'\n",
    "]\n",
    "\n",
    "DATA_DIR = '../data/hafen-hamburg-de/'"
   ]
  },
  {
   "cell_type": "code",
   "execution_count": 3,
   "metadata": {},
   "outputs": [],
   "source": [
    "def to_dataframe(chart_data):\n",
    "    [datasets, labels, names, _] = chart_data\n",
    "    names = names[:len(datasets)]\n",
    "    df = pd.DataFrame(datasets, index=pd.Index(names)).T.reset_index(drop=True)\n",
    "    df['labels'] = labels\n",
    "\n",
    "    return df"
   ]
  },
  {
   "cell_type": "code",
   "execution_count": 4,
   "metadata": {},
   "outputs": [],
   "source": [
    "pw = await async_playwright().start()\n",
    "browser = await pw.chromium.launch(headless=True)\n",
    "page = await browser.new_page()"
   ]
  },
  {
   "cell_type": "code",
   "execution_count": 5,
   "metadata": {},
   "outputs": [
    {
     "name": "stdout",
     "output_type": "stream",
     "text": [
      "Scraping breakbulk\n",
      "Scraping bulk\n",
      "Scraping containerhandling\n",
      "Scraping seabornecargohandling\n"
     ]
    }
   ],
   "source": [
    "for page_name in PAGES:\n",
    "    print(f\"Scraping {page_name}\")\n",
    "    url = f\"{BASE_URL}/{page_name}\"\n",
    "    await page.goto(url)\n",
    "    page_data = await page.evaluate('() => stats.slice(1)')\n",
    "\n",
    "    for i, chart_data in enumerate(page_data):\n",
    "        df = to_dataframe(chart_data)\n",
    "        df.to_csv(f\"{DATA_DIR}/{page_name}_{i}.csv\", index=False)"
   ]
  },
  {
   "cell_type": "code",
   "execution_count": 6,
   "metadata": {},
   "outputs": [
    {
     "data": {
      "text/plain": [
       "<coroutine object PlaywrightContextManager.__aexit__ at 0x7f5207604380>"
      ]
     },
     "execution_count": 6,
     "metadata": {},
     "output_type": "execute_result"
    }
   ],
   "source": [
    "await browser.close()\n",
    "pw.stop()"
   ]
  }
 ],
 "metadata": {
  "kernelspec": {
   "display_name": "tvk",
   "language": "python",
   "name": "python3"
  },
  "language_info": {
   "codemirror_mode": {
    "name": "ipython",
    "version": 3
   },
   "file_extension": ".py",
   "mimetype": "text/x-python",
   "name": "python",
   "nbconvert_exporter": "python",
   "pygments_lexer": "ipython3",
   "version": "3.12.4"
  }
 },
 "nbformat": 4,
 "nbformat_minor": 2
}
