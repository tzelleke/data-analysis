{
 "cells": [
  {
   "cell_type": "code",
   "execution_count": 1,
   "metadata": {},
   "outputs": [
    {
     "data": {
      "text/html": [
       "<span style=\"None\">The &#x27;toml&#x27; package isn&#x27;t installed. To load settings from pyproject.toml or ~/.jupysql/config, install with: pip install toml</span>"
      ],
      "text/plain": [
       "The 'toml' package isn't installed. To load settings from pyproject.toml or ~/.jupysql/config, install with: pip install toml"
      ]
     },
     "metadata": {},
     "output_type": "display_data"
    }
   ],
   "source": [
    "%load_ext sql\n",
    "%config SqlMagic.displaycon = False\n",
    "%config SqlMagic.feedback = 0"
   ]
  },
  {
   "cell_type": "code",
   "execution_count": 2,
   "metadata": {},
   "outputs": [],
   "source": [
    "%sql duckdb:///../data/hafen-hamburg-de/db1.duckdb --alias conn"
   ]
  },
  {
   "cell_type": "code",
   "execution_count": 3,
   "metadata": {},
   "outputs": [
    {
     "data": {
      "text/html": [
       "<table>\n",
       "    <thead>\n",
       "        <tr>\n",
       "            <th>Count</th>\n",
       "        </tr>\n",
       "    </thead>\n",
       "    <tbody>\n",
       "    </tbody>\n",
       "</table>"
      ],
      "text/plain": [
       "+-------+\n",
       "| Count |\n",
       "+-------+\n",
       "+-------+"
      ]
     },
     "execution_count": 3,
     "metadata": {},
     "output_type": "execute_result"
    }
   ],
   "source": [
    "%%sql\n",
    "\n",
    "create table if not exists containerhandling as\n",
    "select\n",
    "    labels as year,\n",
    "    TEU as total,\n",
    "    \"Container Import\" as import,\n",
    "    \"Container Export\" as export,\n",
    "    \"Container Import, full\" as full,\n",
    "    \"Container, Export, empty\" as empty,\n",
    "from (\n",
    "    select * from \"../data/hafen-hamburg-de/containerhandling_0.csv\"\n",
    ") as sq_1\n",
    "    join (\n",
    "        select * from \"../data/hafen-hamburg-de/containerhandling_1.csv\"\n",
    "    ) as sq_2 using (labels)\n",
    "    join (\n",
    "        select * from \"../data/hafen-hamburg-de/containerhandling_2.csv\"\n",
    "    ) as sq_3 using (labels)"
   ]
  },
  {
   "cell_type": "code",
   "execution_count": 4,
   "metadata": {},
   "outputs": [
    {
     "data": {
      "text/html": [
       "<table>\n",
       "    <thead>\n",
       "        <tr>\n",
       "            <th>year</th>\n",
       "            <th>total</th>\n",
       "            <th>import</th>\n",
       "            <th>export</th>\n",
       "            <th>full</th>\n",
       "            <th>empty</th>\n",
       "        </tr>\n",
       "    </thead>\n",
       "    <tbody>\n",
       "        <tr>\n",
       "            <td>1991</td>\n",
       "            <td>2.2</td>\n",
       "            <td>1.1</td>\n",
       "            <td>1.1</td>\n",
       "            <td>1.8</td>\n",
       "            <td>0.4</td>\n",
       "        </tr>\n",
       "        <tr>\n",
       "            <td>1992</td>\n",
       "            <td>2.3</td>\n",
       "            <td>1.2</td>\n",
       "            <td>1.1</td>\n",
       "            <td>1.9</td>\n",
       "            <td>0.4</td>\n",
       "        </tr>\n",
       "        <tr>\n",
       "            <td>1993</td>\n",
       "            <td>2.5</td>\n",
       "            <td>1.3</td>\n",
       "            <td>1.2</td>\n",
       "            <td>2.1</td>\n",
       "            <td>0.4</td>\n",
       "        </tr>\n",
       "        <tr>\n",
       "            <td>1994</td>\n",
       "            <td>2.7</td>\n",
       "            <td>1.4</td>\n",
       "            <td>1.3</td>\n",
       "            <td>2.3</td>\n",
       "            <td>0.4</td>\n",
       "        </tr>\n",
       "        <tr>\n",
       "            <td>1995</td>\n",
       "            <td>2.9</td>\n",
       "            <td>1.5</td>\n",
       "            <td>1.4</td>\n",
       "            <td>2.5</td>\n",
       "            <td>0.4</td>\n",
       "        </tr>\n",
       "    </tbody>\n",
       "</table>"
      ],
      "text/plain": [
       "+------+-------+--------+--------+------+-------+\n",
       "| year | total | import | export | full | empty |\n",
       "+------+-------+--------+--------+------+-------+\n",
       "| 1991 |  2.2  |  1.1   |  1.1   | 1.8  |  0.4  |\n",
       "| 1992 |  2.3  |  1.2   |  1.1   | 1.9  |  0.4  |\n",
       "| 1993 |  2.5  |  1.3   |  1.2   | 2.1  |  0.4  |\n",
       "| 1994 |  2.7  |  1.4   |  1.3   | 2.3  |  0.4  |\n",
       "| 1995 |  2.9  |  1.5   |  1.4   | 2.5  |  0.4  |\n",
       "+------+-------+--------+--------+------+-------+"
      ]
     },
     "execution_count": 4,
     "metadata": {},
     "output_type": "execute_result"
    }
   ],
   "source": [
    "%sql select * from containerhandling limit 5"
   ]
  },
  {
   "cell_type": "code",
   "execution_count": 5,
   "metadata": {},
   "outputs": [
    {
     "data": {
      "text/html": [
       "<table>\n",
       "    <thead>\n",
       "        <tr>\n",
       "            <th>Count</th>\n",
       "        </tr>\n",
       "    </thead>\n",
       "    <tbody>\n",
       "    </tbody>\n",
       "</table>"
      ],
      "text/plain": [
       "+-------+\n",
       "| Count |\n",
       "+-------+\n",
       "+-------+"
      ]
     },
     "execution_count": 5,
     "metadata": {},
     "output_type": "execute_result"
    }
   ],
   "source": [
    "%%sql\n",
    "\n",
    "create table if not exists seabornecargohandling as\n",
    "select\n",
    "    labels as year,\n",
    "    \"Total Import\" as total_import,\n",
    "    sq_1.\"Bulk Import\" as total_export,\n",
    "    \"Seaborne Cargo Import\" as seaborne_import,\n",
    "    \"Seaborne Cargo Export\" as seaborne_export,\n",
    "    sq_3.\"Bulk Import\" as bulk_import,\n",
    "    \"Bulk Export\" as bulk_export\n",
    "from (\n",
    "    select * from \"../data/hafen-hamburg-de/seabornecargohandling_0.csv\"\n",
    ") as sq_1\n",
    "    join (\n",
    "        select * from \"../data/hafen-hamburg-de/seabornecargohandling_1.csv\"\n",
    "    ) as sq_2 using (labels)\n",
    "    join (\n",
    "        select * from \"../data/hafen-hamburg-de/seabornecargohandling_2.csv\"\n",
    "    ) as sq_3 using (labels)"
   ]
  },
  {
   "cell_type": "code",
   "execution_count": 6,
   "metadata": {},
   "outputs": [
    {
     "data": {
      "text/html": [
       "<table>\n",
       "    <thead>\n",
       "        <tr>\n",
       "            <th>year</th>\n",
       "            <th>total_import</th>\n",
       "            <th>total_export</th>\n",
       "            <th>seaborne_import</th>\n",
       "            <th>seaborne_export</th>\n",
       "            <th>bulk_import</th>\n",
       "            <th>bulk_export</th>\n",
       "        </tr>\n",
       "    </thead>\n",
       "    <tbody>\n",
       "        <tr>\n",
       "            <td>1989</td>\n",
       "            <td>36.9</td>\n",
       "            <td>21.0</td>\n",
       "            <td>11.8</td>\n",
       "            <td>14.0</td>\n",
       "            <td>25.1</td>\n",
       "            <td>7.0</td>\n",
       "        </tr>\n",
       "        <tr>\n",
       "            <td>1990</td>\n",
       "            <td>39.4</td>\n",
       "            <td>21.9</td>\n",
       "            <td>13.5</td>\n",
       "            <td>15.0</td>\n",
       "            <td>25.9</td>\n",
       "            <td>6.9</td>\n",
       "        </tr>\n",
       "        <tr>\n",
       "            <td>1991</td>\n",
       "            <td>42.8</td>\n",
       "            <td>22.7</td>\n",
       "            <td>14.8</td>\n",
       "            <td>15.2</td>\n",
       "            <td>28.0</td>\n",
       "            <td>7.5</td>\n",
       "        </tr>\n",
       "        <tr>\n",
       "            <td>1992</td>\n",
       "            <td>42.0</td>\n",
       "            <td>23.1</td>\n",
       "            <td>15.0</td>\n",
       "            <td>15.2</td>\n",
       "            <td>27.0</td>\n",
       "            <td>7.9</td>\n",
       "        </tr>\n",
       "        <tr>\n",
       "            <td>1993</td>\n",
       "            <td>42.1</td>\n",
       "            <td>23.7</td>\n",
       "            <td>15.7</td>\n",
       "            <td>16.6</td>\n",
       "            <td>26.5</td>\n",
       "            <td>7.1</td>\n",
       "        </tr>\n",
       "    </tbody>\n",
       "</table>"
      ],
      "text/plain": [
       "+------+--------------+--------------+-----------------+-----------------+-------------+-------------+\n",
       "| year | total_import | total_export | seaborne_import | seaborne_export | bulk_import | bulk_export |\n",
       "+------+--------------+--------------+-----------------+-----------------+-------------+-------------+\n",
       "| 1989 |     36.9     |     21.0     |       11.8      |       14.0      |     25.1    |     7.0     |\n",
       "| 1990 |     39.4     |     21.9     |       13.5      |       15.0      |     25.9    |     6.9     |\n",
       "| 1991 |     42.8     |     22.7     |       14.8      |       15.2      |     28.0    |     7.5     |\n",
       "| 1992 |     42.0     |     23.1     |       15.0      |       15.2      |     27.0    |     7.9     |\n",
       "| 1993 |     42.1     |     23.7     |       15.7      |       16.6      |     26.5    |     7.1     |\n",
       "+------+--------------+--------------+-----------------+-----------------+-------------+-------------+"
      ]
     },
     "execution_count": 6,
     "metadata": {},
     "output_type": "execute_result"
    }
   ],
   "source": [
    "%sql select * from seabornecargohandling limit 5"
   ]
  },
  {
   "cell_type": "code",
   "execution_count": 7,
   "metadata": {},
   "outputs": [],
   "source": [
    "%sql --close conn"
   ]
  }
 ],
 "metadata": {
  "kernelspec": {
   "display_name": "tvk",
   "language": "python",
   "name": "python3"
  },
  "language_info": {
   "codemirror_mode": {
    "name": "ipython",
    "version": 3
   },
   "file_extension": ".py",
   "mimetype": "text/x-python",
   "name": "python",
   "nbconvert_exporter": "python",
   "pygments_lexer": "ipython3",
   "version": "3.12.4"
  }
 },
 "nbformat": 4,
 "nbformat_minor": 2
}
